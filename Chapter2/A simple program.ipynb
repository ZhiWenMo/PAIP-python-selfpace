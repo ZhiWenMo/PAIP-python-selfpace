{
 "cells": [
  {
   "cell_type": "markdown",
   "metadata": {},
   "source": [
    "## A Grammar for a Subset of English"
   ]
  },
  {
   "cell_type": "code",
   "execution_count": null,
   "metadata": {
    "collapsed": false
   },
   "outputs": [],
   "source": [
    "'''\n",
    "Sentence => Noun-Phrase + Verb-Phrase\n",
    "Noun-Phrase => Article + Noun\n",
    "Verb-Phrase => Verb + Noun-Phrase\n",
    "Article => the,a,...\n",
    "Noun => man,ball,woman,table...\n",
    "Verb => hit,took,saw,liked...\n",
    "'''"
   ]
  },
  {
   "cell_type": "markdown",
   "metadata": {},
   "source": [
    "# A Straightforward Solution"
   ]
  },
  {
   "cell_type": "code",
   "execution_count": null,
   "metadata": {
    "collapsed": true
   },
   "outputs": [],
   "source": [
    "def sentence():return noun_phrase() + verb_phrase()\n",
    "def noun_phrase():return article() + noun()\n",
    "def verb_phrase():return verb() + noun_phrase()\n",
    "def article():return one_of(['the','a'])\n",
    "def noun():return one_of(['man','ball','woman','table'])\n",
    "def verb():return one_of(['hit','took','saw','liked'])"
   ]
  },
  {
   "cell_type": "code",
   "execution_count": null,
   "metadata": {
    "collapsed": true
   },
   "outputs": [],
   "source": [
    "import random"
   ]
  },
  {
   "cell_type": "code",
   "execution_count": null,
   "metadata": {
    "collapsed": true
   },
   "outputs": [],
   "source": [
    "def one_of(lot):return [random.choice(lot)]"
   ]
  },
  {
   "cell_type": "code",
   "execution_count": null,
   "metadata": {
    "collapsed": false
   },
   "outputs": [],
   "source": [
    "sentence()"
   ]
  },
  {
   "cell_type": "markdown",
   "metadata": {},
   "source": [
    "# A Rule-Based Solution"
   ]
  },
  {
   "cell_type": "code",
   "execution_count": null,
   "metadata": {
    "collapsed": true
   },
   "outputs": [],
   "source": [
    "\"\"\"\n",
    "But when we meet the more complicated grammer such as :\n",
    "\n",
    "NP => Article + Adj* + Noun + PP*\n",
    "Adj* => null, Adj + Adj*\n",
    "PP* => null, PP + PP*\n",
    "PP => Prep + NP\n",
    "Adj => big, little, blue, green\n",
    "Prep => to, in, by, win\n",
    "the simple function will not work for this.\n",
    "\"\"\""
   ]
  },
  {
   "cell_type": "code",
   "execution_count": null,
   "metadata": {
    "collapsed": true
   },
   "outputs": [],
   "source": []
  }
 ],
 "metadata": {
  "kernelspec": {
   "display_name": "Python 3",
   "language": "python",
   "name": "python3"
  },
  "language_info": {
   "codemirror_mode": {
    "name": "ipython",
    "version": 3
   },
   "file_extension": ".py",
   "mimetype": "text/x-python",
   "name": "python",
   "nbconvert_exporter": "python",
   "pygments_lexer": "ipython3",
   "version": "3.6.0"
  }
 },
 "nbformat": 4,
 "nbformat_minor": 2
}
