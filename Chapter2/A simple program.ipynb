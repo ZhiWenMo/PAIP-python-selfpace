{
 "cells": [
  {
   "cell_type": "markdown",
   "metadata": {},
   "source": [
    "## A Grammar for a Subset of English"
   ]
  },
  {
   "cell_type": "code",
   "execution_count": null,
   "metadata": {
    "collapsed": false
   },
   "outputs": [],
   "source": [
    "'''\n",
    "Sentence => Noun-Phrase + Verb-Phrase\n",
    "Noun-Phrase => Article + Noun\n",
    "Verb-Phrase => Verb + Noun-Phrase\n",
    "Article => the,a,...\n",
    "Noun => man,ball,woman,table...\n",
    "Verb => hit,took,saw,liked...\n",
    "'''"
   ]
  },
  {
   "cell_type": "markdown",
   "metadata": {},
   "source": [
    "# A Straightforward Solution"
   ]
  },
  {
   "cell_type": "code",
   "execution_count": 1,
   "metadata": {
    "collapsed": true
   },
   "outputs": [],
   "source": [
    "def sentence():return noun_phrase() + verb_phrase()\n",
    "def noun_phrase():return article() + noun()\n",
    "def verb_phrase():return verb() + noun_phrase()\n",
    "def article():return one_of(['the','a'])\n",
    "def noun():return one_of(['man','ball','woman','table'])\n",
    "def verb():return one_of(['hit','took','saw','liked'])"
   ]
  },
  {
   "cell_type": "code",
   "execution_count": 2,
   "metadata": {
    "collapsed": true
   },
   "outputs": [],
   "source": [
    "import random"
   ]
  },
  {
   "cell_type": "code",
   "execution_count": 3,
   "metadata": {
    "collapsed": true
   },
   "outputs": [],
   "source": [
    "def one_of(lot):return [random.choice(lot)]"
   ]
  },
  {
   "cell_type": "code",
   "execution_count": 4,
   "metadata": {
    "collapsed": false
   },
   "outputs": [
    {
     "data": {
      "text/plain": [
       "['the', 'ball', 'liked', 'the', 'woman']"
      ]
     },
     "execution_count": 4,
     "metadata": {},
     "output_type": "execute_result"
    }
   ],
   "source": [
    "sentence()"
   ]
  },
  {
   "cell_type": "markdown",
   "metadata": {},
   "source": [
    "# A Rule-Based Solution"
   ]
  },
  {
   "cell_type": "code",
   "execution_count": 28,
   "metadata": {
    "collapsed": true
   },
   "outputs": [],
   "source": [
    "simple_grammar = \"\"\"\n",
    "Sentence => Noun_Phrase Verb_Phrase\n",
    "Noun_Phrase => Article Noun\n",
    "Verb_Phrase => Verb Noun_Phrase\n",
    "Article => the | a\n",
    "Noun => man | ball | woman | table\n",
    "Verb => hit | took | saw | liked\n",
    "\"\"\""
   ]
  },
  {
   "cell_type": "code",
   "execution_count": 29,
   "metadata": {
    "collapsed": true
   },
   "outputs": [],
   "source": [
    "def parse_grammar(raw_grammar):\n",
    "    grammar = {}\n",
    "    for line in raw_grammar.split('\\n'):\n",
    "        if not line:continue\n",
    "        lhs,rhs = line.split('=>')\n",
    "        left = lhs.strip()\n",
    "        right = list(map(lambda x:x.split(),rhs.split('|')))\n",
    "        grammar[left] = right\n",
    "        \n",
    "    return grammar"
   ]
  },
  {
   "cell_type": "code",
   "execution_count": 30,
   "metadata": {
    "collapsed": false
   },
   "outputs": [],
   "source": [
    "grammar = parse_grammar(simple_grammar)"
   ]
  },
  {
   "cell_type": "code",
   "execution_count": 31,
   "metadata": {
    "collapsed": false
   },
   "outputs": [
    {
     "data": {
      "text/plain": [
       "{'Article': [['the'], ['a']],\n",
       " 'Noun': [['man'], ['ball'], ['woman'], ['table']],\n",
       " 'Noun_Phrase': [['Article', 'Noun']],\n",
       " 'Sentence': [['Noun_Phrase', 'Verb_Phrase']],\n",
       " 'Verb': [['hit'], ['took'], ['saw'], ['liked']],\n",
       " 'Verb_Phrase': [['Verb', 'Noun_Phrase']]}"
      ]
     },
     "execution_count": 31,
     "metadata": {},
     "output_type": "execute_result"
    }
   ],
   "source": [
    "grammar"
   ]
  },
  {
   "cell_type": "code",
   "execution_count": 56,
   "metadata": {
    "collapsed": true
   },
   "outputs": [],
   "source": [
    "def rewrites(category):return grammar.get(category,None)"
   ]
  },
  {
   "cell_type": "code",
   "execution_count": 57,
   "metadata": {
    "collapsed": true
   },
   "outputs": [],
   "source": [
    "from functools import reduce"
   ]
  },
  {
   "cell_type": "code",
   "execution_count": 58,
   "metadata": {
    "collapsed": true
   },
   "outputs": [],
   "source": [
    "def mappend(func,iterable):\n",
    "    return reduce(lambda a, b:a + b ,map(func,iterable))"
   ]
  },
  {
   "cell_type": "code",
   "execution_count": 59,
   "metadata": {
    "collapsed": true
   },
   "outputs": [],
   "source": [
    "def generate(phrase):\n",
    "    if isinstance(phrase,list):\n",
    "        return mappend(generate,phrase)\n",
    "    elif rewrites(phrase):\n",
    "        return generate(random.choice(rewrites(phrase)))\n",
    "    else:\n",
    "        return [phrase]"
   ]
  },
  {
   "cell_type": "code",
   "execution_count": 60,
   "metadata": {
    "collapsed": false
   },
   "outputs": [
    {
     "data": {
      "text/plain": [
       "['the', 'table', 'saw', 'the', 'man']"
      ]
     },
     "execution_count": 60,
     "metadata": {},
     "output_type": "execute_result"
    }
   ],
   "source": [
    "generate('Sentence')"
   ]
  },
  {
   "cell_type": "code",
   "execution_count": 61,
   "metadata": {
    "collapsed": false
   },
   "outputs": [
    {
     "data": {
      "text/plain": [
       "['the', 'man', 'hit', 'the', 'man']"
      ]
     },
     "execution_count": 61,
     "metadata": {},
     "output_type": "execute_result"
    }
   ],
   "source": [
    "generate('Sentence')"
   ]
  },
  {
   "cell_type": "code",
   "execution_count": 62,
   "metadata": {
    "collapsed": false
   },
   "outputs": [
    {
     "data": {
      "text/plain": [
       "['a', 'man']"
      ]
     },
     "execution_count": 62,
     "metadata": {},
     "output_type": "execute_result"
    }
   ],
   "source": [
    "generate('Noun_Phrase')"
   ]
  },
  {
   "cell_type": "code",
   "execution_count": 63,
   "metadata": {
    "collapsed": false
   },
   "outputs": [
    {
     "data": {
      "text/plain": [
       "['hit', 'a', 'woman']"
      ]
     },
     "execution_count": 63,
     "metadata": {},
     "output_type": "execute_result"
    }
   ],
   "source": [
    "generate('Verb_Phrase')"
   ]
  },
  {
   "cell_type": "markdown",
   "metadata": {},
   "source": [
    "# Changing the  the Grammar without Chaning the Program"
   ]
  },
  {
   "cell_type": "code",
   "execution_count": 72,
   "metadata": {
    "collapsed": true
   },
   "outputs": [],
   "source": [
    "bigger_grammar = \"\"\"\n",
    "Sentence => Noun_Phrase Verb_Phrase\n",
    "Noun_Phrase => Article Adj* Noun PP* | Name | Pron\n",
    "Verb_Phrase => Verb Noun_Phrase PP*\n",
    "PP* => null | PP PP*\n",
    "Adj* => null | Adj Adj*\n",
    "PP => Prep Noun_Phrase\n",
    "Prep => to | in | by | with | on\n",
    "Adj => big | little | blue | green | adiabatic\n",
    "Article => the | a \n",
    "Name => Pat | Kim | Lee | Terry | Robin\n",
    "Noun => man | ball | woman | table\n",
    "Verb => hit | took | saw | liked\n",
    "Pron => he | she | it | these | those | that\n",
    "\"\"\""
   ]
  },
  {
   "cell_type": "code",
   "execution_count": 73,
   "metadata": {
    "collapsed": true
   },
   "outputs": [],
   "source": [
    "grammar = parse_grammar(bigger_grammar)"
   ]
  },
  {
   "cell_type": "code",
   "execution_count": 74,
   "metadata": {
    "collapsed": false
   },
   "outputs": [
    {
     "data": {
      "text/plain": [
       "{'Adj': [['big'], ['little'], ['blue'], ['green'], ['adiabatic']],\n",
       " 'Adj*': [['null'], ['Adj', 'Adj*']],\n",
       " 'Article': [['the'], ['a']],\n",
       " 'Name': [['Pat'], ['Kim'], ['Lee'], ['Terry'], ['Robin']],\n",
       " 'Noun': [['man'], ['ball'], ['woman'], ['table']],\n",
       " 'Noun_Phrase': [['Article', 'Adj*', 'Noun', 'PP*'], ['Name'], ['Pron']],\n",
       " 'PP': [['Prep', 'Noun_Phrase']],\n",
       " 'PP*': [['null'], ['PP', 'PP*']],\n",
       " 'Prep': [['to'], ['in'], ['by'], ['with'], ['on']],\n",
       " 'Pron': [['he'], ['she'], ['it'], ['these'], ['those'], ['that']],\n",
       " 'Sentence': [['Noun_Phrase', 'Verb_Phrase']],\n",
       " 'Verb': [['hit'], ['took'], ['saw'], ['liked']],\n",
       " 'Verb_Phrase': [['Verb', 'Noun_Phrase', 'PP*']]}"
      ]
     },
     "execution_count": 74,
     "metadata": {},
     "output_type": "execute_result"
    }
   ],
   "source": [
    "grammar"
   ]
  },
  {
   "cell_type": "code",
   "execution_count": 80,
   "metadata": {
    "collapsed": true
   },
   "outputs": [],
   "source": [
    "def format_result(listed_result):\n",
    "    return list(filter(lambda x: x != 'null', listed_result))"
   ]
  },
  {
   "cell_type": "code",
   "execution_count": 83,
   "metadata": {
    "collapsed": false
   },
   "outputs": [
    {
     "data": {
      "text/plain": [
       "['Lee', 'hit', 'a', 'green', 'ball', 'to', 'Terry']"
      ]
     },
     "execution_count": 83,
     "metadata": {},
     "output_type": "execute_result"
    }
   ],
   "source": [
    "format_result(generate('Sentence'))"
   ]
  },
  {
   "cell_type": "code",
   "execution_count": 84,
   "metadata": {
    "collapsed": false
   },
   "outputs": [
    {
     "data": {
      "text/plain": [
       "['she', 'liked', 'Kim']"
      ]
     },
     "execution_count": 84,
     "metadata": {},
     "output_type": "execute_result"
    }
   ],
   "source": [
    "format_result(generate('Sentence'))"
   ]
  },
  {
   "cell_type": "code",
   "execution_count": 85,
   "metadata": {
    "collapsed": false
   },
   "outputs": [
    {
     "data": {
      "text/plain": [
       "['Pat', 'saw', 'a', 'blue', 'big', 'table', 'by', 'she', 'by', 'Lee']"
      ]
     },
     "execution_count": 85,
     "metadata": {},
     "output_type": "execute_result"
    }
   ],
   "source": [
    "format_result(generate('Sentence'))"
   ]
  },
  {
   "cell_type": "markdown",
   "metadata": {},
   "source": [
    "# Using the Same Data for Several Programs "
   ]
  },
  {
   "cell_type": "code",
   "execution_count": 107,
   "metadata": {
    "collapsed": true
   },
   "outputs": [],
   "source": [
    "def generate_tree(phrase):\n",
    "    if isinstance(phrase, list):\n",
    "        return list(map(generate_tree, phrase))\n",
    "    elif rewrites(phrase):\n",
    "        return [phrase] + generate_tree(random.choices(rewrites(phrase)))\n",
    "    else:\n",
    "        return [phrase]"
   ]
  },
  {
   "cell_type": "code",
   "execution_count": 109,
   "metadata": {
    "collapsed": false
   },
   "outputs": [
    {
     "data": {
      "text/plain": [
       "['Sentence',\n",
       " [['Noun_Phrase', [['Pron', [['these']]]]],\n",
       "  ['Verb_Phrase',\n",
       "   [['Verb', [['liked']]],\n",
       "    ['Noun_Phrase', [['Name', [['Terry']]]]],\n",
       "    ['PP*',\n",
       "     [['PP', [['Prep', [['to']]], ['Noun_Phrase', [['Name', [['Pat']]]]]]],\n",
       "      ['PP*', [['null']]]]]]]]]"
      ]
     },
     "execution_count": 109,
     "metadata": {},
     "output_type": "execute_result"
    }
   ],
   "source": [
    "generate_tree('Sentence')"
   ]
  }
 ],
 "metadata": {
  "kernelspec": {
   "display_name": "Python 3",
   "language": "python",
   "name": "python3"
  },
  "language_info": {
   "codemirror_mode": {
    "name": "ipython",
    "version": 3
   },
   "file_extension": ".py",
   "mimetype": "text/x-python",
   "name": "python",
   "nbconvert_exporter": "python",
   "pygments_lexer": "ipython3",
   "version": "3.6.0"
  }
 },
 "nbformat": 4,
 "nbformat_minor": 2
}
