{
 "cells": [
  {
   "cell_type": "code",
   "execution_count": 59,
   "metadata": {},
   "outputs": [],
   "source": [
    "from collections import namedtuple\n",
    "from itertools import product\n",
    "\n",
    "\n",
    "def make_op(action, preconditions, add_list, del_list):\n",
    "    operator = namedtuple('op', ['action', 'preconditions', 'add_list', 'del_list'])\n",
    "    return operator(action, set(preconditions), set(add_list), set(del_list))"
   ]
  },
  {
   "cell_type": "code",
   "execution_count": 60,
   "metadata": {},
   "outputs": [],
   "source": [
    "def gps(state, goals, ops):\n",
    "    if achieve(goals, state):\n",
    "        return True\n",
    "    for goal, op in product(goals, ops):\n",
    "        if approproate_p(goal, op):\n",
    "            state = apply_op(op, state)\n",
    "            return gps(state, goals, ops)\n",
    "    return False"
   ]
  },
  {
   "cell_type": "code",
   "execution_count": 61,
   "metadata": {},
   "outputs": [],
   "source": [
    "def achieve(goals, state):\n",
    "    return all([g in state for g in goals])"
   ]
  },
  {
   "cell_type": "code",
   "execution_count": 62,
   "metadata": {},
   "outputs": [],
   "source": [
    "def approproate_p(goal, op):\n",
    "    return any([g in op.add_list for g in goal])"
   ]
  },
  {
   "cell_type": "code",
   "execution_count": 63,
   "metadata": {},
   "outputs": [],
   "source": [
    "def apply_op(op, state):\n",
    "    if state in op.preconditions:\n",
    "        print ('executing', op.action)\n",
    "        newstate = state - op.del_list\n",
    "        newstate = newstate + op.add_list\n",
    "        return newstate\n",
    "    else:\n",
    "        return None"
   ]
  },
  {
   "cell_type": "code",
   "execution_count": 64,
   "metadata": {},
   "outputs": [],
   "source": [
    "school_operators = [\n",
    "    make_op('drive-son-to-school',\n",
    "            ['son-at-home', 'car-works'],\n",
    "            ['son-at-school'],\n",
    "            ['son-at-home']),\n",
    "    make_op('shop-installs-battery',\n",
    "            ['car-needs-battery', 'shop-know-problem', 'shop-has-money'],\n",
    "            ['car-works'],\n",
    "            []),\n",
    "    make_op('tell-shop-problem',\n",
    "            ['in-communication-with-shop'],\n",
    "            ['shop-knows-problem'],\n",
    "            []),\n",
    "    make_op('telephone-shop',\n",
    "            ['know-phone-number'],\n",
    "            ['in-communication-with-shop'],\n",
    "            []),\n",
    "    make_op('look-up-number',\n",
    "            ['have-phone-book'],\n",
    "            ['know-phone-number'],\n",
    "            []),\n",
    "    make_op('give-shop-money',\n",
    "            ['have-money'],\n",
    "            ['shop-has-money'],\n",
    "            ['have-money']),\n",
    "]"
   ]
  },
  {
   "cell_type": "code",
   "execution_count": 65,
   "metadata": {},
   "outputs": [
    {
     "data": {
      "text/plain": [
       "False"
      ]
     },
     "execution_count": 65,
     "metadata": {},
     "output_type": "execute_result"
    }
   ],
   "source": [
    "gps(\n",
    "    {'son-at-home', 'car-needs-battery', 'have-money', 'have-phone-book'},\n",
    "    {'son-at-school'},\n",
    "    school_operators\n",
    ")"
   ]
  }
 ],
 "metadata": {
  "kernelspec": {
   "display_name": "Python 3",
   "language": "python",
   "name": "python3"
  },
  "language_info": {
   "codemirror_mode": {
    "name": "ipython",
    "version": 3
   },
   "file_extension": ".py",
   "mimetype": "text/x-python",
   "name": "python",
   "nbconvert_exporter": "python",
   "pygments_lexer": "ipython3",
   "version": "3.6.6"
  }
 },
 "nbformat": 4,
 "nbformat_minor": 2
}
